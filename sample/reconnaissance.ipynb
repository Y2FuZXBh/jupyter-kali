{
 "cells": [
  {
   "cell_type": "markdown",
   "id": "bd3f3cf1-2aa8-42e2-9ce0-c4dc711017d6",
   "metadata": {},
   "source": [
    "# (Sample) Reconnaissance Notebook"
   ]
  },
  {
   "cell_type": "markdown",
   "id": "b79c4ac0-dc33-4915-80fc-cc17ec237d6f",
   "metadata": {
    "tags": []
   },
   "source": [
    "### Update This:"
   ]
  },
  {
   "cell_type": "code",
   "execution_count": 1,
   "id": "fd2045bf-310d-4f61-b88d-7f8440e73373",
   "metadata": {
    "tags": []
   },
   "outputs": [],
   "source": [
    "TARGET = \"127.0.0.1\""
   ]
  },
  {
   "cell_type": "markdown",
   "id": "118a1554-b3bc-4fd0-afd0-79c7fa657924",
   "metadata": {
    "tags": []
   },
   "source": [
    "### Nmap"
   ]
  },
  {
   "cell_type": "code",
   "execution_count": null,
   "id": "6df96c4f-7083-4585-b344-a8afb45d0025",
   "metadata": {
    "tags": []
   },
   "outputs": [],
   "source": [
    "import nmap\n",
    "nm = nmap.PortScanner()\n",
    "scan = nm.scan(TARGET, arguments='-Pn -n -T5 --top-ports 100')\n",
    "print('done')"
   ]
  },
  {
   "cell_type": "code",
   "execution_count": null,
   "id": "5ee56090-8798-4719-a0f9-8e0f7e9327d5",
   "metadata": {
    "tags": []
   },
   "outputs": [],
   "source": [
    "scan['scan'][TARGET]['tcp'][80]['name']"
   ]
  },
  {
   "cell_type": "markdown",
   "id": "b8750efa-5fdd-46c8-8fd3-fff19663bee0",
   "metadata": {
    "tags": []
   },
   "source": [
    "### Ports"
   ]
  },
  {
   "cell_type": "code",
   "execution_count": null,
   "id": "d4bb7612-6e2d-4b3b-ae8b-62084c540e59",
   "metadata": {
    "tags": []
   },
   "outputs": [],
   "source": [
    "tcp=list(scan['scan'][TARGET]['tcp'].keys())\n",
    "print(*tcp, sep=', ')"
   ]
  },
  {
   "cell_type": "markdown",
   "id": "363dfadc-28b4-468a-a72b-219747207613",
   "metadata": {},
   "source": [
    "### Services"
   ]
  },
  {
   "cell_type": "code",
   "execution_count": null,
   "id": "261df05b-1891-429c-8701-73278d7c4b9f",
   "metadata": {
    "tags": []
   },
   "outputs": [],
   "source": [
    "for port in tcp:\n",
    "    print({port: scan['scan'][TARGET]['tcp'][port]['name']})"
   ]
  }
 ],
 "metadata": {
  "kernelspec": {
   "display_name": "Python 3 (ipykernel)",
   "language": "python",
   "name": "python3"
  },
  "language_info": {
   "codemirror_mode": {
    "name": "ipython",
    "version": 3
   },
   "file_extension": ".py",
   "mimetype": "text/x-python",
   "name": "python",
   "nbconvert_exporter": "python",
   "pygments_lexer": "ipython3",
   "version": "3.11.2"
  },
  "toc-autonumbering": false,
  "toc-showmarkdowntxt": false
 },
 "nbformat": 4,
 "nbformat_minor": 5
}
