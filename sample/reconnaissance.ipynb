{
 "cells": [
  {
   "cell_type": "markdown",
   "id": "bd3f3cf1-2aa8-42e2-9ce0-c4dc711017d6",
   "metadata": {},
   "source": [
    "# (Sample) Reconnaissance Notebook"
   ]
  },
  {
   "cell_type": "markdown",
   "id": "b79c4ac0-dc33-4915-80fc-cc17ec237d6f",
   "metadata": {
    "tags": []
   },
   "source": [
    "### Update This:"
   ]
  },
  {
   "cell_type": "code",
   "execution_count": 1,
   "id": "fd2045bf-310d-4f61-b88d-7f8440e73373",
   "metadata": {
    "tags": []
   },
   "outputs": [],
   "source": [
    "TARGET = \"127.0.0.1\""
   ]
  },
  {
   "cell_type": "markdown",
   "id": "118a1554-b3bc-4fd0-afd0-79c7fa657924",
   "metadata": {
    "tags": []
   },
   "source": [
    "### Nmap"
   ]
  },
  {
   "cell_type": "code",
   "execution_count": 2,
   "id": "6df96c4f-7083-4585-b344-a8afb45d0025",
   "metadata": {
    "tags": []
   },
   "outputs": [
    {
     "name": "stdout",
     "output_type": "stream",
     "text": [
      "done\n"
     ]
    }
   ],
   "source": [
    "import nmap\n",
    "nm = nmap.PortScanner()\n",
    "scan = nm.scan(TARGET, arguments='-Pn -n -T5 --top-ports 100')\n",
    "print('done')"
   ]
  },
  {
   "cell_type": "code",
   "execution_count": 12,
   "id": "5ee56090-8798-4719-a0f9-8e0f7e9327d5",
   "metadata": {
    "tags": []
   },
   "outputs": [
    {
     "data": {
      "text/plain": [
       "'http'"
      ]
     },
     "execution_count": 12,
     "metadata": {},
     "output_type": "execute_result"
    }
   ],
   "source": [
    "scan['scan'][TARGET]['tcp'][80]['name']"
   ]
  },
  {
   "cell_type": "markdown",
   "id": "b8750efa-5fdd-46c8-8fd3-fff19663bee0",
   "metadata": {
    "tags": []
   },
   "source": [
    "### Ports"
   ]
  },
  {
   "cell_type": "code",
   "execution_count": 3,
   "id": "d4bb7612-6e2d-4b3b-ae8b-62084c540e59",
   "metadata": {
    "tags": []
   },
   "outputs": [
    {
     "name": "stdout",
     "output_type": "stream",
     "text": [
      "80, 135, 139, 443, 445, 5357\n"
     ]
    }
   ],
   "source": [
    "tcp=list(scan['scan'][TARGET]['tcp'].keys())\n",
    "print(*tcp, sep=', ')"
   ]
  },
  {
   "cell_type": "markdown",
   "id": "363dfadc-28b4-468a-a72b-219747207613",
   "metadata": {},
   "source": [
    "### Services"
   ]
  },
  {
   "cell_type": "code",
   "execution_count": 14,
   "id": "261df05b-1891-429c-8701-73278d7c4b9f",
   "metadata": {
    "tags": []
   },
   "outputs": [
    {
     "name": "stdout",
     "output_type": "stream",
     "text": [
      "{80: 'http'}\n",
      "{135: 'msrpc'}\n",
      "{139: 'netbios-ssn'}\n",
      "{443: 'https'}\n",
      "{445: 'microsoft-ds'}\n",
      "{5357: 'wsdapi'}\n"
     ]
    }
   ],
   "source": [
    "for port in tcp:\n",
    "    print({port: scan['scan'][TARGET]['tcp'][port]['name']})"
   ]
  },
  {
   "cell_type": "markdown",
   "id": "7f284155-a3c2-44fe-8e01-9b9dd23d410f",
   "metadata": {},
   "source": [
    "### Web"
   ]
  },
  {
   "cell_type": "code",
   "execution_count": null,
   "id": "a96fdc68-582b-4ae2-8ad2-064820fcdc09",
   "metadata": {},
   "outputs": [],
   "source": [
    "WEB_PORTS = [80]"
   ]
  },
  {
   "cell_type": "code",
   "execution_count": null,
   "id": "b9a0eb2c-2373-441c-a36a-0da215842720",
   "metadata": {},
   "outputs": [],
   "source": [
    "import gobuster"
   ]
  }
 ],
 "metadata": {
  "kernelspec": {
   "display_name": "Python 3 (ipykernel)",
   "language": "python",
   "name": "python3"
  },
  "language_info": {
   "codemirror_mode": {
    "name": "ipython",
    "version": 3
   },
   "file_extension": ".py",
   "mimetype": "text/x-python",
   "name": "python",
   "nbconvert_exporter": "python",
   "pygments_lexer": "ipython3",
   "version": "3.11.2"
  },
  "toc-autonumbering": false,
  "toc-showmarkdowntxt": false
 },
 "nbformat": 4,
 "nbformat_minor": 5
}
