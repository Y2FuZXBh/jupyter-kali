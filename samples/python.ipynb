{
 "cells": [
  {
   "cell_type": "markdown",
   "id": "bd3f3cf1-2aa8-42e2-9ce0-c4dc711017d6",
   "metadata": {},
   "source": [
    "# Python Notebook"
   ]
  },
  {
   "cell_type": "code",
   "execution_count": 8,
   "id": "fd2045bf-310d-4f61-b88d-7f8440e73373",
   "metadata": {
    "tags": []
   },
   "outputs": [],
   "source": [
    "TARGET = \"127.0.0.1\""
   ]
  },
  {
   "cell_type": "markdown",
   "id": "118a1554-b3bc-4fd0-afd0-79c7fa657924",
   "metadata": {
    "tags": []
   },
   "source": [
    "### Nmap"
   ]
  },
  {
   "cell_type": "code",
   "execution_count": 47,
   "id": "6df96c4f-7083-4585-b344-a8afb45d0025",
   "metadata": {
    "tags": []
   },
   "outputs": [],
   "source": [
    "import nmap3"
   ]
  },
  {
   "cell_type": "markdown",
   "id": "b8750efa-5fdd-46c8-8fd3-fff19663bee0",
   "metadata": {
    "tags": []
   },
   "source": [
    "### Ports"
   ]
  },
  {
   "cell_type": "code",
   "execution_count": 56,
   "id": "d4bb7612-6e2d-4b3b-ae8b-62084c540e59",
   "metadata": {
    "tags": []
   },
   "outputs": [
    {
     "name": "stdout",
     "output_type": "stream",
     "text": [
      "8888\n"
     ]
    }
   ],
   "source": [
    "nm = nmap3.NmapScanTechniques()\n",
    "for x in nm.nmap_tcp_scan(TARGET)[TARGET]['ports']:\n",
    "    print(x['portid'])"
   ]
  },
  {
   "cell_type": "markdown",
   "id": "363dfadc-28b4-468a-a72b-219747207613",
   "metadata": {},
   "source": [
    "### Services"
   ]
  },
  {
   "cell_type": "code",
   "execution_count": 53,
   "id": "261df05b-1891-429c-8701-73278d7c4b9f",
   "metadata": {
    "tags": []
   },
   "outputs": [
    {
     "name": "stdout",
     "output_type": "stream",
     "text": [
      "8888 | Tornado httpd | 6.2\n"
     ]
    }
   ],
   "source": [
    "nm = nmap3.Nmap()\n",
    "for x in nm.nmap_version_detection(TARGET)[TARGET]['ports']:\n",
    "    print(x['portid'], x['service']['product'], x['service']['version'], sep=' | ')"
   ]
  }
 ],
 "metadata": {
  "kernelspec": {
   "display_name": "Python 3 (ipykernel)",
   "language": "python",
   "name": "python3"
  },
  "language_info": {
   "codemirror_mode": {
    "name": "ipython",
    "version": 3
   },
   "file_extension": ".py",
   "mimetype": "text/x-python",
   "name": "python",
   "nbconvert_exporter": "python",
   "pygments_lexer": "ipython3",
   "version": "3.11.2"
  },
  "toc-autonumbering": false,
  "toc-showmarkdowntxt": false
 },
 "nbformat": 4,
 "nbformat_minor": 5
}
